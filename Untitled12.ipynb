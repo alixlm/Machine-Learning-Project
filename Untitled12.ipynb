{
 "cells": [
  {
   "cell_type": "code",
   "execution_count": 15,
   "id": "c8ba7bd5",
   "metadata": {},
   "outputs": [
    {
     "data": {
      "text/html": [
       "<div>\n",
       "<style scoped>\n",
       "    .dataframe tbody tr th:only-of-type {\n",
       "        vertical-align: middle;\n",
       "    }\n",
       "\n",
       "    .dataframe tbody tr th {\n",
       "        vertical-align: top;\n",
       "    }\n",
       "\n",
       "    .dataframe thead th {\n",
       "        text-align: right;\n",
       "    }\n",
       "</style>\n",
       "<table border=\"1\" class=\"dataframe\">\n",
       "  <thead>\n",
       "    <tr style=\"text-align: right;\">\n",
       "      <th></th>\n",
       "      <th>Date</th>\n",
       "      <th>Prix</th>\n",
       "    </tr>\n",
       "  </thead>\n",
       "  <tbody>\n",
       "    <tr>\n",
       "      <th>0</th>\n",
       "      <td>02/01/2015</td>\n",
       "      <td>5,621</td>\n",
       "    </tr>\n",
       "    <tr>\n",
       "      <th>1</th>\n",
       "      <td>05/01/2015</td>\n",
       "      <td>5,424</td>\n",
       "    </tr>\n",
       "    <tr>\n",
       "      <th>2</th>\n",
       "      <td>06/01/2015</td>\n",
       "      <td>5,329</td>\n",
       "    </tr>\n",
       "    <tr>\n",
       "      <th>3</th>\n",
       "      <td>07/01/2015</td>\n",
       "      <td>5,224</td>\n",
       "    </tr>\n",
       "    <tr>\n",
       "      <th>4</th>\n",
       "      <td>08/01/2015</td>\n",
       "      <td>5,453</td>\n",
       "    </tr>\n",
       "  </tbody>\n",
       "</table>\n",
       "</div>"
      ],
      "text/plain": [
       "         Date   Prix\n",
       "0  02/01/2015  5,621\n",
       "1  05/01/2015  5,424\n",
       "2  06/01/2015  5,329\n",
       "3  07/01/2015  5,224\n",
       "4  08/01/2015  5,453"
      ]
     },
     "execution_count": 15,
     "metadata": {},
     "output_type": "execute_result"
    }
   ],
   "source": [
    "import pandas as pd\n",
    "df = pd.read_csv(\"Data Natixis.csv\",sep = ';')\n",
    "df.head()"
   ]
  },
  {
   "cell_type": "code",
   "execution_count": 29,
   "id": "f97249fb",
   "metadata": {},
   "outputs": [
    {
     "name": "stdout",
     "output_type": "stream",
     "text": [
      "<class 'pandas.core.frame.DataFrame'>\n",
      "RangeIndex: 1023 entries, 0 to 1022\n",
      "Data columns (total 3 columns):\n",
      " #   Column     Non-Null Count  Dtype  \n",
      "---  ------     --------------  -----  \n",
      " 0   Date       1023 non-null   object \n",
      " 1   Prix       1023 non-null   float64\n",
      " 2   Prix_Trie  1023 non-null   object \n",
      "dtypes: float64(1), object(2)\n",
      "memory usage: 24.1+ KB\n"
     ]
    }
   ],
   "source": [
    "df.info()"
   ]
  },
  {
   "cell_type": "code",
   "execution_count": 24,
   "id": "73dc3de7",
   "metadata": {},
   "outputs": [
    {
     "data": {
      "text/html": [
       "<div>\n",
       "<style scoped>\n",
       "    .dataframe tbody tr th:only-of-type {\n",
       "        vertical-align: middle;\n",
       "    }\n",
       "\n",
       "    .dataframe tbody tr th {\n",
       "        vertical-align: top;\n",
       "    }\n",
       "\n",
       "    .dataframe thead th {\n",
       "        text-align: right;\n",
       "    }\n",
       "</style>\n",
       "<table border=\"1\" class=\"dataframe\">\n",
       "  <thead>\n",
       "    <tr style=\"text-align: right;\">\n",
       "      <th></th>\n",
       "      <th>Date</th>\n",
       "      <th>Prix</th>\n",
       "      <th>Prix_Trie</th>\n",
       "    </tr>\n",
       "  </thead>\n",
       "  <tbody>\n",
       "    <tr>\n",
       "      <th>0</th>\n",
       "      <td>02/01/2015</td>\n",
       "      <td>5621.0</td>\n",
       "      <td>3,077</td>\n",
       "    </tr>\n",
       "    <tr>\n",
       "      <th>1</th>\n",
       "      <td>05/01/2015</td>\n",
       "      <td>5424.0</td>\n",
       "      <td>3,149</td>\n",
       "    </tr>\n",
       "    <tr>\n",
       "      <th>2</th>\n",
       "      <td>06/01/2015</td>\n",
       "      <td>5329.0</td>\n",
       "      <td>3,165</td>\n",
       "    </tr>\n",
       "    <tr>\n",
       "      <th>3</th>\n",
       "      <td>07/01/2015</td>\n",
       "      <td>5224.0</td>\n",
       "      <td>3,27</td>\n",
       "    </tr>\n",
       "    <tr>\n",
       "      <th>4</th>\n",
       "      <td>08/01/2015</td>\n",
       "      <td>5453.0</td>\n",
       "      <td>3,309</td>\n",
       "    </tr>\n",
       "  </tbody>\n",
       "</table>\n",
       "</div>"
      ],
      "text/plain": [
       "         Date    Prix Prix_Trie\n",
       "0  02/01/2015  5621.0     3,077\n",
       "1  05/01/2015  5424.0     3,149\n",
       "2  06/01/2015  5329.0     3,165\n",
       "3  07/01/2015  5224.0      3,27\n",
       "4  08/01/2015  5453.0     3,309"
      ]
     },
     "execution_count": 24,
     "metadata": {},
     "output_type": "execute_result"
    }
   ],
   "source": [
    "df.head()"
   ]
  },
  {
   "cell_type": "code",
   "execution_count": null,
   "id": "e6ff49ee",
   "metadata": {
    "scrolled": true
   },
   "outputs": [],
   "source": [
    "df|'Date'] = pd.to_datetme(df['Date'])\n",
    "df['Prix'] = df['Prix'].str.replace(',', '.', regex=False).astype(float)"
   ]
  },
  {
   "cell_type": "code",
   "execution_count": 30,
   "id": "7e0f4aa9",
   "metadata": {},
   "outputs": [
    {
     "data": {
      "text/html": [
       "<div>\n",
       "<style scoped>\n",
       "    .dataframe tbody tr th:only-of-type {\n",
       "        vertical-align: middle;\n",
       "    }\n",
       "\n",
       "    .dataframe tbody tr th {\n",
       "        vertical-align: top;\n",
       "    }\n",
       "\n",
       "    .dataframe thead th {\n",
       "        text-align: right;\n",
       "    }\n",
       "</style>\n",
       "<table border=\"1\" class=\"dataframe\">\n",
       "  <thead>\n",
       "    <tr style=\"text-align: right;\">\n",
       "      <th></th>\n",
       "      <th>Date</th>\n",
       "      <th>Prix</th>\n",
       "    </tr>\n",
       "  </thead>\n",
       "  <tbody>\n",
       "    <tr>\n",
       "      <th>0</th>\n",
       "      <td>02/01/2015</td>\n",
       "      <td>5621.0</td>\n",
       "    </tr>\n",
       "    <tr>\n",
       "      <th>1</th>\n",
       "      <td>05/01/2015</td>\n",
       "      <td>5424.0</td>\n",
       "    </tr>\n",
       "    <tr>\n",
       "      <th>2</th>\n",
       "      <td>06/01/2015</td>\n",
       "      <td>5329.0</td>\n",
       "    </tr>\n",
       "    <tr>\n",
       "      <th>3</th>\n",
       "      <td>07/01/2015</td>\n",
       "      <td>5224.0</td>\n",
       "    </tr>\n",
       "    <tr>\n",
       "      <th>4</th>\n",
       "      <td>08/01/2015</td>\n",
       "      <td>5453.0</td>\n",
       "    </tr>\n",
       "  </tbody>\n",
       "</table>\n",
       "</div>"
      ],
      "text/plain": [
       "         Date    Prix\n",
       "0  02/01/2015  5621.0\n",
       "1  05/01/2015  5424.0\n",
       "2  06/01/2015  5329.0\n",
       "3  07/01/2015  5224.0\n",
       "4  08/01/2015  5453.0"
      ]
     },
     "execution_count": 30,
     "metadata": {},
     "output_type": "execute_result"
    }
   ],
   "source": [
    "df = df.drop(columns=['Prix_Trie'])\n",
    "df.head()"
   ]
  },
  {
   "cell_type": "code",
   "execution_count": 35,
   "id": "96230784",
   "metadata": {},
   "outputs": [],
   "source": [
    "df['Rendement'] = df['Prix'].pct_change()\n",
    "df['Rendement_Abs'] = df['Rendement'].abs()"
   ]
  },
  {
   "cell_type": "code",
   "execution_count": 37,
   "id": "14755216",
   "metadata": {},
   "outputs": [
    {
     "data": {
      "text/html": [
       "<div>\n",
       "<style scoped>\n",
       "    .dataframe tbody tr th:only-of-type {\n",
       "        vertical-align: middle;\n",
       "    }\n",
       "\n",
       "    .dataframe tbody tr th {\n",
       "        vertical-align: top;\n",
       "    }\n",
       "\n",
       "    .dataframe thead th {\n",
       "        text-align: right;\n",
       "    }\n",
       "</style>\n",
       "<table border=\"1\" class=\"dataframe\">\n",
       "  <thead>\n",
       "    <tr style=\"text-align: right;\">\n",
       "      <th></th>\n",
       "      <th>Date</th>\n",
       "      <th>Prix</th>\n",
       "      <th>Rendement</th>\n",
       "      <th>Rdm_Trie</th>\n",
       "      <th>Rendement_Abs</th>\n",
       "      <th>Rdm_abs_Trie</th>\n",
       "    </tr>\n",
       "  </thead>\n",
       "  <tbody>\n",
       "    <tr>\n",
       "      <th>1018</th>\n",
       "      <td>21/12/2018</td>\n",
       "      <td>4045.0</td>\n",
       "      <td>-0.001481</td>\n",
       "      <td>99.285714</td>\n",
       "      <td>0.001481</td>\n",
       "      <td>99.285714</td>\n",
       "    </tr>\n",
       "    <tr>\n",
       "      <th>1019</th>\n",
       "      <td>24/12/2018</td>\n",
       "      <td>401.0</td>\n",
       "      <td>-0.900865</td>\n",
       "      <td>100.362319</td>\n",
       "      <td>0.900865</td>\n",
       "      <td>100.362319</td>\n",
       "    </tr>\n",
       "    <tr>\n",
       "      <th>1020</th>\n",
       "      <td>27/12/2018</td>\n",
       "      <td>3938.0</td>\n",
       "      <td>8.820449</td>\n",
       "      <td>103.022727</td>\n",
       "      <td>8.820449</td>\n",
       "      <td>103.022727</td>\n",
       "    </tr>\n",
       "    <tr>\n",
       "      <th>1021</th>\n",
       "      <td>28/12/2018</td>\n",
       "      <td>4088.0</td>\n",
       "      <td>0.038090</td>\n",
       "      <td>991.666667</td>\n",
       "      <td>0.038090</td>\n",
       "      <td>991.666667</td>\n",
       "    </tr>\n",
       "    <tr>\n",
       "      <th>1022</th>\n",
       "      <td>31/12/2018</td>\n",
       "      <td>4119.0</td>\n",
       "      <td>0.007583</td>\n",
       "      <td>995.333333</td>\n",
       "      <td>0.007583</td>\n",
       "      <td>995.333333</td>\n",
       "    </tr>\n",
       "  </tbody>\n",
       "</table>\n",
       "</div>"
      ],
      "text/plain": [
       "            Date    Prix  Rendement    Rdm_Trie  Rendement_Abs  Rdm_abs_Trie\n",
       "1018  21/12/2018  4045.0  -0.001481   99.285714       0.001481     99.285714\n",
       "1019  24/12/2018   401.0  -0.900865  100.362319       0.900865    100.362319\n",
       "1020  27/12/2018  3938.0   8.820449  103.022727       8.820449    103.022727\n",
       "1021  28/12/2018  4088.0   0.038090  991.666667       0.038090    991.666667\n",
       "1022  31/12/2018  4119.0   0.007583  995.333333       0.007583    995.333333"
      ]
     },
     "execution_count": 37,
     "metadata": {},
     "output_type": "execute_result"
    }
   ],
   "source": [
    "df['Rdm_abs_Trie'] = sorted(df['Rendement_Abs'])\n",
    "df.tail()"
   ]
  },
  {
   "cell_type": "code",
   "execution_count": 45,
   "id": "bf19c275",
   "metadata": {},
   "outputs": [],
   "source": [
    "import numpy as np\n",
    "def k(n):\n",
    "    return np.log(n)"
   ]
  },
  {
   "cell_type": "code",
   "execution_count": 47,
   "id": "a9ff41cf",
   "metadata": {},
   "outputs": [
    {
     "name": "stdout",
     "output_type": "stream",
     "text": [
      "-6.203264551483349\n"
     ]
    }
   ],
   "source": [
    "n=len(df)\n",
    "pickand = (1 / np.log(2)) * np.log(\n",
    "    (df['Rdm_abs_Trie'].iloc[n - int(k(n)) + 1] - df['Rdm_abs_Trie'].iloc[n - 2 * int(k(n)) + 1]) / \n",
    "    (df['Rdm_abs_Trie'].iloc[n - 2 * int(k(n)) + 1] - df['Rdm_abs_Trie'].iloc[n - 4 * int(k(n)) + 1])\n",
    ")\n",
    "print(pickand)"
   ]
  },
  {
   "cell_type": "code",
   "execution_count": null,
   "id": "4f8f806f",
   "metadata": {},
   "outputs": [],
   "source": []
  }
 ],
 "metadata": {
  "kernelspec": {
   "display_name": "Python 3 (ipykernel)",
   "language": "python",
   "name": "python3"
  },
  "language_info": {
   "codemirror_mode": {
    "name": "ipython",
    "version": 3
   },
   "file_extension": ".py",
   "mimetype": "text/x-python",
   "name": "python",
   "nbconvert_exporter": "python",
   "pygments_lexer": "ipython3",
   "version": "3.9.13"
  }
 },
 "nbformat": 4,
 "nbformat_minor": 5
}
